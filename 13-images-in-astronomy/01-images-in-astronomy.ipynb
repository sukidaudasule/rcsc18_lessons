{
 "cells": [
  {
   "cell_type": "markdown",
   "metadata": {},
   "source": [
    "# Images and Coordinates in Astronomy"
   ]
  },
  {
   "cell_type": "markdown",
   "metadata": {},
   "source": [
    "In this lesson we are going to look at aspects of processing and viewing images specific to Astronomy and Solar Astronomy. By the end of this lesson you should understand:\n",
    "\n",
    "* Projected Coordinate Systems in Images\n",
    "* World Coordinate Systems\n",
    "* Using WCS to calculate coordinates in images\n",
    "* Plotting images with WCS in images\n",
    "* Using SunPy Map"
   ]
  },
  {
   "cell_type": "markdown",
   "metadata": {},
   "source": [
    "## Projected Coordinate Systems"
   ]
  },
  {
   "cell_type": "markdown",
   "metadata": {},
   "source": [
    "When taking images of the sky, we are projecting the spherical celestial coordinate system onto a 2-dimensional plane, which means that there is no simple linear relation between pixel coordinates and celestial coordinates\n",
    "\n",
    "There are multiple coordinate systems used to describe the locations in 2D and 3D space for both Astronomy and Solar Physics. We shall use a couple of these systems here as examples but if you want to know more about them there are many of resources avalible.\n",
    "\n",
    "![Spherical Coordinates](coord_inset.png)\n"
   ]
  },
  {
   "cell_type": "markdown",
   "metadata": {},
   "source": [
    "### Physical Coordinate Systems"
   ]
  },
  {
   "cell_type": "markdown",
   "metadata": {},
   "source": [
    "Projected coordinate systems are one type of physical coordinate systems, they are the one we will be focusing on in this lesson due to their applicability to imaging data. Astropy and SunPy support representing point in many different physical coordinate systems, both projected and fully 3D, such as ICRS or Helioprojective."
   ]
  },
  {
   "cell_type": "code",
   "execution_count": 1,
   "metadata": {},
   "outputs": [],
   "source": [
    "import astropy.units as u\n",
    "import sunpy.coordinates\n",
    "from astropy.coordinates import SkyCoord"
   ]
  },
  {
   "cell_type": "code",
   "execution_count": 6,
   "metadata": {},
   "outputs": [
    {
     "data": {
      "text/plain": [
       "<SkyCoord (ICRS): (ra, dec) in deg\n",
       "    (10., 86.)>"
      ]
     },
     "execution_count": 6,
     "metadata": {},
     "output_type": "execute_result"
    }
   ],
   "source": [
    "icrs = SkyCoord(10*u.deg, 86*u.deg, frame=\"icrs\")\n",
    "icrs"
   ]
  },
  {
   "cell_type": "code",
   "execution_count": 7,
   "metadata": {},
   "outputs": [
    {
     "data": {
      "text/plain": [
       "<SkyCoord (Galactic): (l, b) in deg\n",
       "    (122.7151072, 23.13306851)>"
      ]
     },
     "execution_count": 7,
     "metadata": {},
     "output_type": "execute_result"
    }
   ],
   "source": [
    "icrs.transform_to(\"galactic\")"
   ]
  },
  {
   "cell_type": "code",
   "execution_count": 9,
   "metadata": {},
   "outputs": [
    {
     "data": {
      "text/plain": [
       "<SkyCoord (Helioprojective: obstime=2018-09-07 09:52:21.588846, rsun=695508.0 km, observer=<HeliographicStonyhurst Coordinate (obstime=2018-09-07 09:52:21.588846): (lon, lat, radius) in (deg, deg, AU)\n",
       "    (0., 7.25031415, 1.00778173)>): (Tx, Ty) in arcsec\n",
       "    (100., 700.)>"
      ]
     },
     "execution_count": 9,
     "metadata": {},
     "output_type": "execute_result"
    }
   ],
   "source": [
    "hpc = SkyCoord(100*u.arcsec, 700*u.arcsec, obstime=\"now\", frame=\"helioprojective\")\n",
    "hpc"
   ]
  },
  {
   "cell_type": "code",
   "execution_count": 10,
   "metadata": {},
   "outputs": [
    {
     "data": {
      "text/plain": [
       "<SkyCoord (HeliographicStonyhurst: obstime=2018-09-07 09:52:21.588846): (lon, lat, radius) in (deg, deg, km)\n",
       "    (10.34721556, 54.31823272, 695508.00000359)>"
      ]
     },
     "execution_count": 10,
     "metadata": {},
     "output_type": "execute_result"
    }
   ],
   "source": [
    "hpc.transform_to(\"heliographic_stonyhurst\")"
   ]
  },
  {
   "cell_type": "code",
   "execution_count": 11,
   "metadata": {},
   "outputs": [
    {
     "data": {
      "text/plain": [
       "<SkyCoord (ICRS): (ra, dec, distance) in (deg, deg, km)\n",
       "    (56.31671893, 44.3053279, 1232623.89642392)>"
      ]
     },
     "execution_count": 11,
     "metadata": {},
     "output_type": "execute_result"
    }
   ],
   "source": [
    "hpc.transform_to(\"icrs\")"
   ]
  },
  {
   "cell_type": "markdown",
   "metadata": {},
   "source": [
    "### World Coordinate System\n",
    "\n",
    "#### From pixels  to physical coordinates"
   ]
  },
  {
   "cell_type": "markdown",
   "metadata": {},
   "source": [
    "The FITS files have a standard for describing the physical coordinate system associated with imaging data, this is called the world coordinate system or WCS, sometimes the specific FITS version of this is referred to as FITS-WCS.\n",
    "\n",
    "There are multiple papers describing the FITS-WCS standard for various types of data, there is a list here: http://fits.gsfc.nasa.gov/fits_wcs.html"
   ]
  },
  {
   "cell_type": "markdown",
   "metadata": {},
   "source": [
    "As you learned in the previous lesson we can load FITS files with Astropy. To demonstrate a simple example of a FITS file with FITS-WCS information in the header we shall use an image from SunPy:"
   ]
  },
  {
   "cell_type": "code",
   "execution_count": 12,
   "metadata": {},
   "outputs": [],
   "source": [
    "from sunpy.data.sample import AIA_171_IMAGE\n",
    "from astropy.io import fits"
   ]
  },
  {
   "cell_type": "markdown",
   "metadata": {},
   "source": [
    "\n",
    "\n",
    "As you can see there are lots of keys in this and most other real world FITS headers. The ones we need to understand for FITS-WCS are:"
   ]
  },
  {
   "cell_type": "markdown",
   "metadata": {},
   "source": [
    "Reference Pixel and Coordinate:"
   ]
  },
  {
   "cell_type": "code",
   "execution_count": 13,
   "metadata": {},
   "outputs": [
    {
     "data": {
      "text/plain": [
       "'C:\\\\Users\\\\mkb18105\\\\sunpy\\\\data/sample_data\\\\AIA20110607_063302_0171_lowres.fits'"
      ]
     },
     "execution_count": 13,
     "metadata": {},
     "output_type": "execute_result"
    }
   ],
   "source": [
    "AIA_171_IMAGE"
   ]
  },
  {
   "cell_type": "markdown",
   "metadata": {},
   "source": [
    "Pixel resolution (at the reference pixel):"
   ]
  },
  {
   "cell_type": "code",
   "execution_count": 14,
   "metadata": {},
   "outputs": [
    {
     "name": "stderr",
     "output_type": "stream",
     "text": [
      "WARNING: VerifyWarning: Invalid 'BLANK' keyword in header.  The 'BLANK' keyword is only applicable to integer data, and will be ignored in this HDU. [astropy.io.fits.hdu.image]\n"
     ]
    },
    {
     "data": {
      "text/plain": [
       "SIMPLE  =                    T / conforms to FITS standard                      \n",
       "BITPIX  =                  -32 / array data type                                \n",
       "NAXIS   =                    2 / number of array dimensions                     \n",
       "NAXIS1  =                 1024                                                  \n",
       "NAXIS2  =                 1024                                                  \n",
       "BLD_VERS= 'V5R12X  '                                                            \n",
       "LVL_NUM =                  1.5                                                  \n",
       "T_REC   = '2011-06-07T06:33:03Z'                                                \n",
       "TRECSTEP=                  1.0                                                  \n",
       "TRECEPOC= '1977.01.01_00:00:00_TAI'                                             \n",
       "TRECROUN=                    1                                                  \n",
       "ORIGIN  = 'SDO     '                                                            \n",
       "DATE    = '2012-10-16T19:45:34'                                                 \n",
       "TELESCOP= 'SDO     '                                                            \n",
       "INSTRUME= 'AIA_3   '                                                            \n",
       "DATE-OBS= '2011-06-07T06:33:02.77'                                              \n",
       "T_OBS   = '2011-06-07T06:33:02.88Z'                                             \n",
       "CAMERA  =                    3                                                  \n",
       "IMG_TYPE= 'LIGHT   '                                                            \n",
       "EXPTIME =             0.234256                                                  \n",
       "EXPSDEV =             0.000135                                                  \n",
       "INT_TIME=             0.507812                                                  \n",
       "WAVELNTH=                  171                                                  \n",
       "WAVEUNIT= 'angstrom'                                                            \n",
       "WAVE_STR= '171_THIN'                                                            \n",
       "FSN     =             27194331                                                  \n",
       "FID     =                    0                                                  \n",
       "QUALLEV0=                    0                                                  \n",
       "QUALITY =                    0                                                  \n",
       "TOTVALS =             16777216                                                  \n",
       "DATAVALS=             16777216                                                  \n",
       "MISSVALS=                    0                                                  \n",
       "PERCENTD=                100.0                                                  \n",
       "DATAMIN =                   -8                                                  \n",
       "DATAMAX =                17722                                                  \n",
       "DATAMEDN=                   18                                                  \n",
       "DATAMEAN=              26.6888                                                  \n",
       "DATARMS =            9429260.0                                                  \n",
       "DATASKEW=    81.43300000000001                                                  \n",
       "DATAKURT=        17076.7421875                                                  \n",
       "DATACENT=                30.76                                                  \n",
       "DATAP01 =                 -1.0                                                  \n",
       "DATAP10 =                  1.0                                                  \n",
       "DATAP25 =                  3.0                                                  \n",
       "DATAP75 =                 39.0                                                  \n",
       "DATAP90 =                 64.0                                                  \n",
       "DATAP95 =                 87.0                                                  \n",
       "DATAP98 =                127.0                                                  \n",
       "DATAP99 =                168.0                                                  \n",
       "NSATPIX =                   29                                                  \n",
       "OSCNMEAN= 'nan     '                                                            \n",
       "OSCNRMS = 'nan     '                                                            \n",
       "FLAT_REC= 'aia.flatfield[:#30]'                                                 \n",
       "NSPIKES =                  977                                                  \n",
       "CTYPE1  = 'HPLN-TAN'                                                            \n",
       "CUNIT1  = 'arcsec  '                                                            \n",
       "CRVAL1  =    3.223099507700556                                                  \n",
       "CDELT1  =             2.402792                                                  \n",
       "CRPIX1  =                512.5                                                  \n",
       "CTYPE2  = 'HPLT-TAN'                                                            \n",
       "CUNIT2  = 'arcsec  '                                                            \n",
       "CRVAL2  =    1.385781353025793                                                  \n",
       "CDELT2  =             2.402792                                                  \n",
       "CRPIX2  =                512.5                                                  \n",
       "CROTA2  =            -0.138829                                                  \n",
       "R_SUN   =        1573.89688496                                                  \n",
       "MPO_REC = 'sdo.master_pointing[:#394]'                                          \n",
       "INST_ROT=             0.019327                                                  \n",
       "IMSCL_MP=             0.599489                                                  \n",
       "X0_MP   =          2049.459961                                                  \n",
       "Y0_MP   =          2049.030029                                                  \n",
       "ASD_REC = 'sdo.lev0_asd_0004[:#10672125]'                                       \n",
       "SAT_Y0  =            -4.519384                                                  \n",
       "SAT_Z0  =            13.793308                                                  \n",
       "SAT_ROT =             -3.4E-05                                                  \n",
       "ACS_MODE= 'SCIENCE '                                                            \n",
       "ACS_ECLP= 'NO      '                                                            \n",
       "ACS_SUNP= 'YES     '                                                            \n",
       "ACS_SAFE= 'NO      '                                                            \n",
       "ACS_CGT = 'GT3     '                                                            \n",
       "ORB_REC = 'sdo.fds_orbit_vectors[2011.06.07_06:33:00_UTC]'                      \n",
       "DSUN_REF=       149597870691.0                                                  \n",
       "DSUN_OBS=       151846026489.0                                                  \n",
       "RSUN_REF=          696000000.0                                                  \n",
       "RSUN_OBS=    945.4367109999999                                                  \n",
       "GAEX_OBS=         -13315441.72                                                  \n",
       "GAEY_OBS=         -25080995.82                                                  \n",
       "GAEZ_OBS=          31173320.91                                                  \n",
       "HAEX_OBS=       -36634444009.2                                                  \n",
       "HAEY_OBS=      -147360551017.0                                                  \n",
       "HAEZ_OBS=          35731768.47                                                  \n",
       "OBS_VR  =    86.97246699999999                                                  \n",
       "OBS_VW  =         31968.269521                                                  \n",
       "OBS_VN  =          4842.822869                                                  \n",
       "CRLN_OBS=           340.698273                                                  \n",
       "CRLT_OBS=             0.048591                                                  \n",
       "CAR_ROT =                 2111                                                  \n",
       "HGLN_OBS=                  0.0                                                  \n",
       "HGLT_OBS=             0.048591                                                  \n",
       "ROI_NWIN=          -2147483648                                                  \n",
       "ROI_SUM =          -2147483648                                                  \n",
       "ROI_NAX1=          -2147483648                                                  \n",
       "ROI_NAY1=          -2147483648                                                  \n",
       "ROI_LLX1=          -2147483648                                                  \n",
       "ROI_LLY1=          -2147483648                                                  \n",
       "ROI_NAX2=          -2147483648                                                  \n",
       "ROI_NAY2=          -2147483648                                                  \n",
       "ROI_LLX2=          -2147483648                                                  \n",
       "ROI_LLY2=          -2147483648                                                  \n",
       "PIXLUNIT= 'DN      '                                                            \n",
       "DN_GAIN =                 17.7                                                  \n",
       "EFF_AREA=                2.419                                                  \n",
       "EFF_AR_V=                  3.0                                                  \n",
       "TEMPCCD =                -71.0                                                  \n",
       "TEMPGT  =               14.327                                                  \n",
       "TEMPSMIR=               34.029                                                  \n",
       "TEMPFPAD=                16.29                                                  \n",
       "ISPSNAME= 'aia.lev0_isp_0011'                                                   \n",
       "ISPPKTIM= '2011-06-07T06:32:57.50Z'                                             \n",
       "ISPPKTVN= '001.197 '                                                            \n",
       "AIVNMST =                  453                                                  \n",
       "AIMGOTS =           1686119616                                                  \n",
       "ASQHDR  =           2174677979                                                  \n",
       "ASQTNUM =                    2                                                  \n",
       "ASQFSN  =             27194331                                                  \n",
       "AIAHFSN =             27194323                                                  \n",
       "AECDELAY=                 1537                                                  \n",
       "AIAECTI =                    0                                                  \n",
       "AIASEN  =                    0                                                  \n",
       "AIFDBID =                  241                                                  \n",
       "AIMGOTSS=                55109                                                  \n",
       "AIFCPS  =                   10                                                  \n",
       "AIFTSWTH=                    0                                                  \n",
       "AIFRMLID=                 3057                                                  \n",
       "AIFTSID =                41729                                                  \n",
       "AIHISMXB=                    7                                                  \n",
       "AIHIS192=              8377773                                                  \n",
       "AIHIS348=              8384772                                                  \n",
       "AIHIS604=              8386035                                                  \n",
       "AIHIS860=              8386516                                                  \n",
       "AIFWEN  =                  204                                                  \n",
       "AIMGSHCE=                  237                                                  \n",
       "AECTYPE =                    2                                                  \n",
       "AECMODE = 'ON      '                                                            \n",
       "AISTATE = 'CLOSED  '                                                            \n",
       "AIAECENF=                    1                                                  \n",
       "AIFILTYP=                    0                                                  \n",
       "AIMSHOBC=               41.104                                                  \n",
       "AIMSHOBE=            26.068001                                                  \n",
       "AIMSHOTC=            55.327999                                                  \n",
       "AIMSHOTE=            69.344002                                                  \n",
       "AIMSHCBC=           275.432007                                                  \n",
       "AIMSHCBE=           260.484009                                                  \n",
       "AIMSHCTC=              289.556                                                  \n",
       "AIMSHCTE=           303.395996                                                  \n",
       "AICFGDL1=                    0                                                  \n",
       "AICFGDL2=                  107                                                  \n",
       "AICFGDL3=                  171                                                  \n",
       "AICFGDL4=                  236                                                  \n",
       "AIFOENFL=                    1                                                  \n",
       "AIMGFSN =                    5                                                  \n",
       "AIMGTYP =                    0                                                  \n",
       "AIAWVLEN=                    7                                                  \n",
       "AIAGP1  =                    0                                                  \n",
       "AIAGP2  =                    0                                                  \n",
       "AIAGP3  =                    0                                                  \n",
       "AIAGP4  =                    0                                                  \n",
       "AIAGP5  =                    0                                                  \n",
       "AIAGP6  =                    0                                                  \n",
       "AIAGP7  =                    0                                                  \n",
       "AIAGP8  =                  619                                                  \n",
       "AIAGP9  =                  683                                                  \n",
       "AIAGP10 =                  748                                                  \n",
       "AGT1SVY =                    2                                                  \n",
       "AGT1SVZ =                   -6                                                  \n",
       "AGT2SVY =                    0                                                  \n",
       "AGT2SVZ =                   -1                                                  \n",
       "AGT3SVY =                   -2                                                  \n",
       "AGT3SVZ =                    3                                                  \n",
       "AGT4SVY =                   -5                                                  \n",
       "AGT4SVZ =                    5                                                  \n",
       "AIMGSHEN=                    4                                                  \n",
       "KEYWDDOC= 'https:  '                                                            \n",
       "RECNUM  =             76618218                                                  \n",
       "BLANK   =               -32768                                                  \n",
       "DATE_OBS= '2011-06-07T06:33:02.77'                                              \n",
       "XCEN    =        2.91938326953                                                  \n",
       "YCEN    =        1.09323792231                                                  \n",
       "DETECTOR= 'AIA     '                                                            \n",
       "COMMENT FITS (Flexible Image Transport System) format is defined in 'Astronomyan\n",
       "COMMENT d Astrophysics', volume 376, page 359; bibcode: 2001A&A...376..359HFITSH\n",
       "COMMENT EAD2STRUCT                                                              \n",
       "HISTORY FITSHEAD2STRUCT run at: Fri May 26 11:33:15 2017mreadfits_shm VERSION:  \n",
       "HISTORY 1.20read_sdo VERSION:  2.10aia2wcsmin.pro VERSION:  5.10aia2wcsminaia2wc\n",
       "HISTORY smin  MPO_date: 2012-09-04T00:00:00Zaia2wcsmin  MPO_t_start: 2011-06-05T\n",
       "HISTORY 00:00:00Zaia2wcsmin  MPO_t_stop: 2011-06-12T00:00:00Zaia2wcsmin  MPO_ver\n",
       "HISTORY sion: 5ssw_reg.pro VERSION:  1.30ssw_regssw_reg  ROT called with cubic i\n",
       "HISTORY nterpolation: cubic = -0.500000ssw_reg  Image registered to SDO image wi\n",
       "HISTORY th FSN = 27194330ssw_reg  Image registered to SDO image with T_OBS = 201\n",
       "HISTORY 1-06-07T06:33:01.aia_fix_header.pro VERSION:  1.00aia_prep.pro VERSION: \n",
       "HISTORY  5.10aia_reg.pro VERSION:  1.20                                         "
      ]
     },
     "execution_count": 14,
     "metadata": {},
     "output_type": "execute_result"
    }
   ],
   "source": [
    "hdulist = fits.open(AIA_171_IMAGE)\n",
    "hdulist.verify('silentfix')\n",
    "hdulist[0].header"
   ]
  },
  {
   "cell_type": "markdown",
   "metadata": {},
   "source": [
    "Rotation angle, in degress (at the reference pixel):"
   ]
  },
  {
   "cell_type": "code",
   "execution_count": null,
   "metadata": {},
   "outputs": [],
   "source": []
  },
  {
   "cell_type": "markdown",
   "metadata": {},
   "source": [
    "Coordinate System and Projection:"
   ]
  },
  {
   "cell_type": "code",
   "execution_count": null,
   "metadata": {},
   "outputs": [],
   "source": []
  },
  {
   "cell_type": "markdown",
   "metadata": {},
   "source": [
    "\n",
    "<section class=\"challange panel panel-success\">\n",
    "<div class=\"panel-heading\">\n",
    "<h2><span class=\"fa fa-pencil\"></span> Keyword Extraction</h2>\n",
    "</div>\n",
    "\n",
    "\n",
    "<div class=\"panel-body\">\n",
    "\n",
    "<p>Extract and print out the <code>TELESCOP</code> value from the header.</p>\n",
    "<p>Next, extract the <code>WAVELNTH</code> and <code>WAVEUNIT</code> values, use these to construct an astropy Quantity object for the wavelength of this image.</p>\n",
    "\n",
    "</div>\n",
    "\n",
    "</section>\n"
   ]
  },
  {
   "cell_type": "markdown",
   "metadata": {},
   "source": [
    "\n",
    "<section class=\"solution panel panel-primary\">\n",
    "<div class=\"panel-heading\">\n",
    "<h2><span class=\"fa fa-eye\"></span> Solution</h2>\n",
    "</div>\n",
    "\n",
    "</section>\n"
   ]
  },
  {
   "cell_type": "code",
   "execution_count": null,
   "metadata": {},
   "outputs": [],
   "source": []
  },
  {
   "cell_type": "code",
   "execution_count": null,
   "metadata": {},
   "outputs": [],
   "source": []
  },
  {
   "cell_type": "markdown",
   "metadata": {},
   "source": [
    "We could now sit down and work out how to convert from a pixel coordinate to a physical coordinate described by this header (Helioprojective).\n",
    "\n",
    "However, we can cheat and just use Astropy."
   ]
  },
  {
   "cell_type": "code",
   "execution_count": null,
   "metadata": {},
   "outputs": [],
   "source": []
  },
  {
   "cell_type": "code",
   "execution_count": null,
   "metadata": {},
   "outputs": [],
   "source": []
  },
  {
   "cell_type": "code",
   "execution_count": null,
   "metadata": {},
   "outputs": [],
   "source": []
  },
  {
   "cell_type": "markdown",
   "metadata": {},
   "source": [
    "We can convert from pixel to world coordinate:"
   ]
  },
  {
   "cell_type": "code",
   "execution_count": null,
   "metadata": {},
   "outputs": [],
   "source": []
  },
  {
   "cell_type": "markdown",
   "metadata": {},
   "source": [
    "Or back again:"
   ]
  },
  {
   "cell_type": "code",
   "execution_count": null,
   "metadata": {},
   "outputs": [],
   "source": []
  },
  {
   "cell_type": "markdown",
   "metadata": {},
   "source": [
    "The last parameter to the two above examples is the 'origin' parameter. It is a flag that tells WCS if you indexes should be 0-based (like numpy) or 1-based (like FITS).\n",
    "Here we are using 0 as we want to convert to and from numpy indexes of the array."
   ]
  },
  {
   "cell_type": "markdown",
   "metadata": {},
   "source": [
    "## Where are my Pixels?\n",
    "\n",
    "```\n",
    "[-500, 0]\n",
    "[500, 500]\n",
    "[0, 0]\n",
    "```"
   ]
  },
  {
   "cell_type": "markdown",
   "metadata": {},
   "source": [
    "\n",
    "<section class=\"solution panel panel-primary\">\n",
    "<div class=\"panel-heading\">\n",
    "<h2><span class=\"fa fa-eye\"></span> Solution</h2>\n",
    "</div>\n",
    "\n",
    "</section>\n"
   ]
  },
  {
   "cell_type": "code",
   "execution_count": null,
   "metadata": {},
   "outputs": [],
   "source": []
  },
  {
   "cell_type": "markdown",
   "metadata": {},
   "source": [
    "### WCS and SkyCoord"
   ]
  },
  {
   "cell_type": "markdown",
   "metadata": {},
   "source": [
    "A common usecase for WCS + Coordinates is to store or transform from pixel coordinates to one or more different physical coordinates. Combining Astropy WCS and Coordinates makes this easy.\n",
    "\n",
    "Assuming we have the WCS object we created from the FITS header above we can get an astropy Coordinate Frame:"
   ]
  },
  {
   "cell_type": "code",
   "execution_count": null,
   "metadata": {},
   "outputs": [],
   "source": []
  },
  {
   "cell_type": "code",
   "execution_count": null,
   "metadata": {},
   "outputs": [],
   "source": []
  },
  {
   "cell_type": "markdown",
   "metadata": {},
   "source": [
    "We can then use this when creating `SkyCoord` objects:"
   ]
  },
  {
   "cell_type": "code",
   "execution_count": null,
   "metadata": {},
   "outputs": [],
   "source": []
  },
  {
   "cell_type": "markdown",
   "metadata": {},
   "source": [
    "*Note: For solar data you should always use `sunpy.map` for this*"
   ]
  },
  {
   "cell_type": "markdown",
   "metadata": {},
   "source": [
    "## Coordinate Aware Plotting"
   ]
  },
  {
   "cell_type": "markdown",
   "metadata": {},
   "source": [
    "In this section we are going to use the `astropy.visualization.wcsaxes` subpackage to make WCS aware image plots."
   ]
  },
  {
   "cell_type": "markdown",
   "metadata": {},
   "source": [
    "For this example we are going to use a Hubble image."
   ]
  },
  {
   "cell_type": "code",
   "execution_count": null,
   "metadata": {},
   "outputs": [],
   "source": []
  },
  {
   "cell_type": "code",
   "execution_count": null,
   "metadata": {},
   "outputs": [],
   "source": []
  },
  {
   "cell_type": "code",
   "execution_count": null,
   "metadata": {},
   "outputs": [],
   "source": []
  },
  {
   "cell_type": "code",
   "execution_count": null,
   "metadata": {},
   "outputs": [],
   "source": []
  },
  {
   "cell_type": "code",
   "execution_count": null,
   "metadata": {},
   "outputs": [],
   "source": []
  },
  {
   "cell_type": "code",
   "execution_count": null,
   "metadata": {},
   "outputs": [],
   "source": []
  },
  {
   "cell_type": "markdown",
   "metadata": {},
   "source": [
    "This image now has physcial labels in the native coordinate system of the image. We can see what the coordinate system and projection of this image is using the 'CTYPE' header entries we saw earlier."
   ]
  },
  {
   "cell_type": "code",
   "execution_count": null,
   "metadata": {},
   "outputs": [],
   "source": []
  },
  {
   "cell_type": "markdown",
   "metadata": {},
   "source": [
    "We can tell that this is in the FK5 coordinate system by the presence of a 'equinox' entry in the header:"
   ]
  },
  {
   "cell_type": "code",
   "execution_count": null,
   "metadata": {},
   "outputs": [],
   "source": []
  },
  {
   "cell_type": "markdown",
   "metadata": {},
   "source": [
    "\n",
    "<section class=\"challange panel panel-success\">\n",
    "<div class=\"panel-heading\">\n",
    "<h2><span class=\"fa fa-pencil\"></span> Add some labels</h2>\n",
    "</div>\n",
    "\n",
    "\n",
    "<div class=\"panel-body\">\n",
    "\n",
    "<p>Now we have a nice plot with physically meaningful ticks, we should label our axes.</p>\n",
    "<p>Add labels to the axes saying \"Right Ascension [degrees]\" and \"Declination [degrees]\"</p>\n",
    "<p>Also overlay a coordinate grid using:\n",
    "<code>ax.coords.grid()</code>\n",
    "Look up the documentation for this method to see what parameters you can specify.</p>\n",
    "\n",
    "</div>\n",
    "\n",
    "</section>\n"
   ]
  },
  {
   "cell_type": "markdown",
   "metadata": {},
   "source": [
    "\n",
    "<section class=\"solution panel panel-primary\">\n",
    "<div class=\"panel-heading\">\n",
    "<h2><span class=\"fa fa-eye\"></span> Solution</h2>\n",
    "</div>\n",
    "\n",
    "</section>\n"
   ]
  },
  {
   "cell_type": "code",
   "execution_count": null,
   "metadata": {},
   "outputs": [],
   "source": []
  },
  {
   "cell_type": "markdown",
   "metadata": {},
   "source": [
    "Now we have a nice plot, we can do a couple of things to plot."
   ]
  },
  {
   "cell_type": "markdown",
   "metadata": {},
   "source": [
    "### Overplotting in Pixel Coordinates"
   ]
  },
  {
   "cell_type": "code",
   "execution_count": null,
   "metadata": {},
   "outputs": [],
   "source": []
  },
  {
   "cell_type": "markdown",
   "metadata": {},
   "source": [
    "### Overplotting in World Coordinates"
   ]
  },
  {
   "cell_type": "code",
   "execution_count": null,
   "metadata": {},
   "outputs": [],
   "source": []
  },
  {
   "cell_type": "markdown",
   "metadata": {},
   "source": [
    "\n",
    "<section class=\"challange panel panel-success\">\n",
    "<div class=\"panel-heading\">\n",
    "<h2><span class=\"fa fa-pencil\"></span> Overplot in a different coordinate system</h2>\n",
    "</div>\n",
    "\n",
    "\n",
    "<div class=\"panel-body\">\n",
    "\n",
    "<p>Using <code>ax.get_transform()</code> you can specify coordinates in any system that astropy coordinates can transform to, try overplotting a point in the <code>'galactic'</code> system.</p>\n",
    "<p>Also overlay a coordinate grid using:\n",
    "<code>ax.coords.grid()</code>\n",
    "Look up the <a href=\"http://wcsaxes.readthedocs.io/en/latest/overlaying_coordinate_systems.html\">documentation</a> for this method to see what parameters you can specify.</p>\n",
    "\n",
    "</div>\n",
    "\n",
    "</section>\n"
   ]
  },
  {
   "cell_type": "markdown",
   "metadata": {},
   "source": [
    "###  Overplotting Another Coordinate System"
   ]
  },
  {
   "cell_type": "code",
   "execution_count": null,
   "metadata": {},
   "outputs": [],
   "source": []
  },
  {
   "cell_type": "markdown",
   "metadata": {},
   "source": [
    "## SunPy Map"
   ]
  },
  {
   "cell_type": "markdown",
   "metadata": {},
   "source": [
    "The SunPy Map class is a wrapper for solar images which makes some of the above opertations easier."
   ]
  },
  {
   "cell_type": "code",
   "execution_count": null,
   "metadata": {},
   "outputs": [],
   "source": []
  },
  {
   "cell_type": "markdown",
   "metadata": {},
   "source": [
    "### Coordinate Systems\n",
    "\n",
    "The SunPy map will calculate some of the things we did earlier automatically, and add some extra information."
   ]
  },
  {
   "cell_type": "code",
   "execution_count": null,
   "metadata": {},
   "outputs": [],
   "source": []
  },
  {
   "cell_type": "code",
   "execution_count": null,
   "metadata": {},
   "outputs": [],
   "source": []
  },
  {
   "cell_type": "code",
   "execution_count": null,
   "metadata": {},
   "outputs": [],
   "source": []
  },
  {
   "cell_type": "markdown",
   "metadata": {},
   "source": [
    "### Plotting"
   ]
  },
  {
   "cell_type": "markdown",
   "metadata": {},
   "source": [
    "SunPy map uses these attributes to do it's plotting with WCSAxes like we did manually earlier. We can therefore use the overplotting and grid techniques to improve the plot:"
   ]
  },
  {
   "cell_type": "code",
   "execution_count": null,
   "metadata": {},
   "outputs": [],
   "source": []
  },
  {
   "cell_type": "code",
   "execution_count": null,
   "metadata": {},
   "outputs": [],
   "source": []
  },
  {
   "cell_type": "code",
   "execution_count": null,
   "metadata": {},
   "outputs": [],
   "source": []
  },
  {
   "cell_type": "code",
   "execution_count": null,
   "metadata": {},
   "outputs": [],
   "source": []
  },
  {
   "cell_type": "markdown",
   "metadata": {},
   "source": [
    "\n",
    "<section class=\"challange panel panel-success\">\n",
    "<div class=\"panel-heading\">\n",
    "<h2><span class=\"fa fa-pencil\"></span> Rotate your Owl</h2>\n",
    "</div>\n",
    "\n",
    "\n",
    "<div class=\"panel-body\">\n",
    "\n",
    "<p>Why is the Sun wonky?</p>\n",
    "<p>Use the <a href=\"http://docs.sunpy.org/en/stable/code_ref/map.html#sunpy.map.mapbase.GenericMap.rotate\"><code>rotate()</code></a> method of SunPy Map to align the coordinate grid to the pixel grid in this sample image.</p>\n",
    "<p>Once you have run rotate, plot the resulting image, and compare with the one above.</p>\n",
    "\n",
    "</div>\n",
    "\n",
    "</section>\n"
   ]
  },
  {
   "cell_type": "code",
   "execution_count": null,
   "metadata": {},
   "outputs": [],
   "source": []
  }
 ],
 "metadata": {
  "kernelspec": {
   "display_name": "Python 3",
   "language": "python",
   "name": "python3"
  },
  "language_info": {
   "codemirror_mode": {
    "name": "ipython",
    "version": 3
   },
   "file_extension": ".py",
   "mimetype": "text/x-python",
   "name": "python",
   "nbconvert_exporter": "python",
   "pygments_lexer": "ipython3",
   "version": "3.6.5"
  },
  "name": "Astro_Images.ipynb"
 },
 "nbformat": 4,
 "nbformat_minor": 1
}
